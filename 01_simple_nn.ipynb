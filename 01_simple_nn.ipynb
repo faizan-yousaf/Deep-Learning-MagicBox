{
 "cells": [
  {
   "cell_type": "markdown",
   "metadata": {},
   "source": [
    "# Simple Neural Network in Python using TensorFlow"
   ]
  },
  {
   "cell_type": "code",
   "execution_count": 144,
   "metadata": {},
   "outputs": [],
   "source": [
    "import pandas as pd\n",
    "import seaborn as sns\n",
    "from sklearn.model_selection import train_test_split\n",
    "from sklearn.preprocessing import StandardScaler\n",
    "import tensorflow as tf"
   ]
  },
  {
   "cell_type": "markdown",
   "metadata": {},
   "source": [
    "## Steps before Creating a Neural Network (Preprocess the Data)"
   ]
  },
  {
   "cell_type": "code",
   "execution_count": 145,
   "metadata": {},
   "outputs": [],
   "source": [
    "# remove the warning messages to keep the output clean and to hide your personal information\n",
    "import warnings\n",
    "warnings.filterwarnings(\"ignore\")\n",
    "\n",
    "# Load the dataset\n",
    "df = sns.load_dataset(\"titanic\")"
   ]
  },
  {
   "cell_type": "code",
   "execution_count": 146,
   "metadata": {},
   "outputs": [
    {
     "data": {
      "text/html": [
       "<div>\n",
       "<style scoped>\n",
       "    .dataframe tbody tr th:only-of-type {\n",
       "        vertical-align: middle;\n",
       "    }\n",
       "\n",
       "    .dataframe tbody tr th {\n",
       "        vertical-align: top;\n",
       "    }\n",
       "\n",
       "    .dataframe thead th {\n",
       "        text-align: right;\n",
       "    }\n",
       "</style>\n",
       "<table border=\"1\" class=\"dataframe\">\n",
       "  <thead>\n",
       "    <tr style=\"text-align: right;\">\n",
       "      <th></th>\n",
       "      <th>survived</th>\n",
       "      <th>pclass</th>\n",
       "      <th>sex</th>\n",
       "      <th>age</th>\n",
       "      <th>sibsp</th>\n",
       "      <th>parch</th>\n",
       "      <th>fare</th>\n",
       "      <th>embarked</th>\n",
       "      <th>class</th>\n",
       "      <th>who</th>\n",
       "      <th>adult_male</th>\n",
       "      <th>deck</th>\n",
       "      <th>embark_town</th>\n",
       "      <th>alive</th>\n",
       "      <th>alone</th>\n",
       "    </tr>\n",
       "  </thead>\n",
       "  <tbody>\n",
       "    <tr>\n",
       "      <th>0</th>\n",
       "      <td>0</td>\n",
       "      <td>3</td>\n",
       "      <td>male</td>\n",
       "      <td>22.0</td>\n",
       "      <td>1</td>\n",
       "      <td>0</td>\n",
       "      <td>7.2500</td>\n",
       "      <td>S</td>\n",
       "      <td>Third</td>\n",
       "      <td>man</td>\n",
       "      <td>True</td>\n",
       "      <td>NaN</td>\n",
       "      <td>Southampton</td>\n",
       "      <td>no</td>\n",
       "      <td>False</td>\n",
       "    </tr>\n",
       "    <tr>\n",
       "      <th>1</th>\n",
       "      <td>1</td>\n",
       "      <td>1</td>\n",
       "      <td>female</td>\n",
       "      <td>38.0</td>\n",
       "      <td>1</td>\n",
       "      <td>0</td>\n",
       "      <td>71.2833</td>\n",
       "      <td>C</td>\n",
       "      <td>First</td>\n",
       "      <td>woman</td>\n",
       "      <td>False</td>\n",
       "      <td>C</td>\n",
       "      <td>Cherbourg</td>\n",
       "      <td>yes</td>\n",
       "      <td>False</td>\n",
       "    </tr>\n",
       "    <tr>\n",
       "      <th>2</th>\n",
       "      <td>1</td>\n",
       "      <td>3</td>\n",
       "      <td>female</td>\n",
       "      <td>26.0</td>\n",
       "      <td>0</td>\n",
       "      <td>0</td>\n",
       "      <td>7.9250</td>\n",
       "      <td>S</td>\n",
       "      <td>Third</td>\n",
       "      <td>woman</td>\n",
       "      <td>False</td>\n",
       "      <td>NaN</td>\n",
       "      <td>Southampton</td>\n",
       "      <td>yes</td>\n",
       "      <td>True</td>\n",
       "    </tr>\n",
       "    <tr>\n",
       "      <th>3</th>\n",
       "      <td>1</td>\n",
       "      <td>1</td>\n",
       "      <td>female</td>\n",
       "      <td>35.0</td>\n",
       "      <td>1</td>\n",
       "      <td>0</td>\n",
       "      <td>53.1000</td>\n",
       "      <td>S</td>\n",
       "      <td>First</td>\n",
       "      <td>woman</td>\n",
       "      <td>False</td>\n",
       "      <td>C</td>\n",
       "      <td>Southampton</td>\n",
       "      <td>yes</td>\n",
       "      <td>False</td>\n",
       "    </tr>\n",
       "    <tr>\n",
       "      <th>4</th>\n",
       "      <td>0</td>\n",
       "      <td>3</td>\n",
       "      <td>male</td>\n",
       "      <td>35.0</td>\n",
       "      <td>0</td>\n",
       "      <td>0</td>\n",
       "      <td>8.0500</td>\n",
       "      <td>S</td>\n",
       "      <td>Third</td>\n",
       "      <td>man</td>\n",
       "      <td>True</td>\n",
       "      <td>NaN</td>\n",
       "      <td>Southampton</td>\n",
       "      <td>no</td>\n",
       "      <td>True</td>\n",
       "    </tr>\n",
       "  </tbody>\n",
       "</table>\n",
       "</div>"
      ],
      "text/plain": [
       "   survived  pclass     sex   age  sibsp  parch     fare embarked  class  \\\n",
       "0         0       3    male  22.0      1      0   7.2500        S  Third   \n",
       "1         1       1  female  38.0      1      0  71.2833        C  First   \n",
       "2         1       3  female  26.0      0      0   7.9250        S  Third   \n",
       "3         1       1  female  35.0      1      0  53.1000        S  First   \n",
       "4         0       3    male  35.0      0      0   8.0500        S  Third   \n",
       "\n",
       "     who  adult_male deck  embark_town alive  alone  \n",
       "0    man        True  NaN  Southampton    no  False  \n",
       "1  woman       False    C    Cherbourg   yes  False  \n",
       "2  woman       False  NaN  Southampton   yes   True  \n",
       "3  woman       False    C  Southampton   yes  False  \n",
       "4    man        True  NaN  Southampton    no   True  "
      ]
     },
     "execution_count": 146,
     "metadata": {},
     "output_type": "execute_result"
    }
   ],
   "source": [
    "df.head()"
   ]
  },
  {
   "cell_type": "markdown",
   "metadata": {},
   "source": [
    "## Preprocess the dataset:"
   ]
  },
  {
   "cell_type": "code",
   "execution_count": 147,
   "metadata": {},
   "outputs": [
    {
     "data": {
      "text/plain": [
       "Index(['survived', 'pclass', 'sex', 'age', 'sibsp', 'parch', 'fare',\n",
       "       'embarked', 'class', 'who', 'adult_male', 'deck', 'embark_town',\n",
       "       'alive', 'alone'],\n",
       "      dtype='object')"
      ]
     },
     "execution_count": 147,
     "metadata": {},
     "output_type": "execute_result"
    }
   ],
   "source": [
    "df.columns"
   ]
  },
  {
   "cell_type": "code",
   "execution_count": 148,
   "metadata": {},
   "outputs": [
    {
     "name": "stdout",
     "output_type": "stream",
     "text": [
      "<class 'pandas.core.frame.DataFrame'>\n",
      "RangeIndex: 891 entries, 0 to 890\n",
      "Data columns (total 15 columns):\n",
      " #   Column       Non-Null Count  Dtype   \n",
      "---  ------       --------------  -----   \n",
      " 0   survived     891 non-null    int64   \n",
      " 1   pclass       891 non-null    int64   \n",
      " 2   sex          891 non-null    object  \n",
      " 3   age          714 non-null    float64 \n",
      " 4   sibsp        891 non-null    int64   \n",
      " 5   parch        891 non-null    int64   \n",
      " 6   fare         891 non-null    float64 \n",
      " 7   embarked     889 non-null    object  \n",
      " 8   class        891 non-null    category\n",
      " 9   who          891 non-null    object  \n",
      " 10  adult_male   891 non-null    bool    \n",
      " 11  deck         203 non-null    category\n",
      " 12  embark_town  889 non-null    object  \n",
      " 13  alive        891 non-null    object  \n",
      " 14  alone        891 non-null    bool    \n",
      "dtypes: bool(2), category(2), float64(2), int64(4), object(5)\n",
      "memory usage: 80.7+ KB\n"
     ]
    }
   ],
   "source": [
    "df.info()"
   ]
  },
  {
   "cell_type": "code",
   "execution_count": 149,
   "metadata": {},
   "outputs": [
    {
     "data": {
      "text/plain": [
       "deck           688\n",
       "age            177\n",
       "embarked         2\n",
       "embark_town      2\n",
       "survived         0\n",
       "pclass           0\n",
       "sex              0\n",
       "sibsp            0\n",
       "parch            0\n",
       "fare             0\n",
       "class            0\n",
       "who              0\n",
       "adult_male       0\n",
       "alive            0\n",
       "alone            0\n",
       "dtype: int64"
      ]
     },
     "execution_count": 149,
     "metadata": {},
     "output_type": "execute_result"
    }
   ],
   "source": [
    "# checking out the missing values:\n",
    "df.isnull().sum().sort_values(ascending=False)"
   ]
  },
  {
   "cell_type": "code",
   "execution_count": 150,
   "metadata": {},
   "outputs": [],
   "source": [
    "# drop rows with missing values\n",
    "df.drop(columns= 'deck', axis=1, inplace=True)\n",
    "\n",
    "# Handeling missing values of age using median:\n",
    "\n",
    "df['age'].fillna(df['age'].median(), inplace=True)\n"
   ]
  },
  {
   "cell_type": "code",
   "execution_count": 151,
   "metadata": {},
   "outputs": [],
   "source": [
    "# Select features and target variable\n",
    "X = df.drop(['pclass', 'embarked', 'embark_town', 'alive'], axis=1)\n",
    "y = df['survived']\n",
    "\n",
    "# Convert categorical variables to numerical values by using label encoding:\n",
    "from sklearn.preprocessing import LabelEncoder\n",
    "\n",
    "le = LabelEncoder()\n",
    "for column in X.select_dtypes(include=['object', 'category']).columns:\n",
    "    X[column] = le.fit_transform(X[column])\n",
    "\n",
    "# Split the dataset into training and testing sets\n",
    "X_train, X_test, y_train, y_test = train_test_split(X, y, test_size=0.2, random_state=42)"
   ]
  },
  {
   "cell_type": "code",
   "execution_count": 152,
   "metadata": {},
   "outputs": [],
   "source": [
    "# Scaling the features:\n",
    "\n",
    "scaler = StandardScaler()\n",
    "scaler.fit(X_train)\n",
    "X_train_scaled = scaler.transform(X_train)\n",
    "X_test_scaled = scaler.transform(X_test)\n"
   ]
  },
  {
   "cell_type": "markdown",
   "metadata": {},
   "source": [
    "## Let's build a simple Neural Network model using Keras:"
   ]
  },
  {
   "cell_type": "code",
   "execution_count": 153,
   "metadata": {},
   "outputs": [],
   "source": [
    "# Building the model\n",
    "\n",
    "# define the layers of the model\n",
    "input_layer = tf.keras.layers.Dense(10, activation='relu', input_shape=(X_train.shape[1],))  # input layer\n",
    "# hidden_layer = tf.keras.layers.Dense(5, activation='relu')  # hidden layer\n",
    "output_layer = tf.keras.layers.Dense(1, activation='sigmoid')  # output layer"
   ]
  },
  {
   "cell_type": "code",
   "execution_count": 154,
   "metadata": {},
   "outputs": [],
   "source": [
    "# Building the model:\n",
    "\n",
    "model = tf.keras.Sequential(\n",
    "    [input_layer,\n",
    "    #   hidden_layer,\n",
    "        output_layer] \n",
    "    )\n",
    "\n",
    "\n",
    "# compiling the model:\n",
    "\n",
    "model.compile(optimizer='adam', loss='binary_crossentropy', metrics=['accuracy']) \n",
    "# optimizer='adam' is a common choice for optimization\n",
    "# loss = 'binary_crossentropy' for binary classification\n",
    "# metrics = ['accuracy'] to track the accuracy of the model"
   ]
  },
  {
   "cell_type": "markdown",
   "metadata": {},
   "source": [
    "## Let's train the model:"
   ]
  },
  {
   "cell_type": "code",
   "execution_count": 155,
   "metadata": {},
   "outputs": [
    {
     "name": "stdout",
     "output_type": "stream",
     "text": [
      "Epoch 1/20\n",
      "23/23 [==============================] - 2s 4ms/step - loss: 0.8719 - accuracy: 0.5955\n",
      "Epoch 2/20\n",
      "23/23 [==============================] - 0s 4ms/step - loss: 0.7498 - accuracy: 0.7135\n",
      "Epoch 3/20\n",
      "23/23 [==============================] - 0s 4ms/step - loss: 0.6472 - accuracy: 0.7289\n",
      "Epoch 4/20\n",
      "23/23 [==============================] - 0s 5ms/step - loss: 0.5634 - accuracy: 0.7500\n",
      "Epoch 5/20\n",
      "23/23 [==============================] - 0s 7ms/step - loss: 0.4949 - accuracy: 0.7963\n",
      "Epoch 6/20\n",
      "23/23 [==============================] - 0s 4ms/step - loss: 0.4368 - accuracy: 0.8652\n",
      "Epoch 7/20\n",
      "23/23 [==============================] - 0s 4ms/step - loss: 0.3891 - accuracy: 0.8989\n",
      "Epoch 8/20\n",
      "23/23 [==============================] - 0s 4ms/step - loss: 0.3505 - accuracy: 0.9256\n",
      "Epoch 9/20\n",
      "23/23 [==============================] - 0s 4ms/step - loss: 0.3167 - accuracy: 0.9312\n",
      "Epoch 10/20\n",
      "23/23 [==============================] - 0s 4ms/step - loss: 0.2883 - accuracy: 0.9340\n",
      "Epoch 11/20\n",
      "23/23 [==============================] - 0s 4ms/step - loss: 0.2634 - accuracy: 0.9340\n",
      "Epoch 12/20\n",
      "23/23 [==============================] - 0s 4ms/step - loss: 0.2413 - accuracy: 0.9368\n",
      "Epoch 13/20\n",
      "23/23 [==============================] - 0s 4ms/step - loss: 0.2209 - accuracy: 0.9424\n",
      "Epoch 14/20\n",
      "23/23 [==============================] - 0s 4ms/step - loss: 0.2026 - accuracy: 0.9494\n",
      "Epoch 15/20\n",
      "23/23 [==============================] - 0s 4ms/step - loss: 0.1857 - accuracy: 0.9649\n",
      "Epoch 16/20\n",
      "23/23 [==============================] - 0s 4ms/step - loss: 0.1704 - accuracy: 0.9775\n",
      "Epoch 17/20\n",
      "23/23 [==============================] - 0s 3ms/step - loss: 0.1564 - accuracy: 0.9860\n",
      "Epoch 18/20\n",
      "23/23 [==============================] - 0s 4ms/step - loss: 0.1437 - accuracy: 0.9902\n",
      "Epoch 19/20\n",
      "23/23 [==============================] - 0s 3ms/step - loss: 0.1322 - accuracy: 0.9930\n",
      "Epoch 20/20\n",
      "23/23 [==============================] - 0s 4ms/step - loss: 0.1216 - accuracy: 0.9930\n",
      "CPU times: total: 7.06 s\n",
      "Wall time: 3.71 s\n"
     ]
    },
    {
     "data": {
      "text/plain": [
       "<keras.callbacks.History at 0x292c4906a90>"
      ]
     },
     "execution_count": 155,
     "metadata": {},
     "output_type": "execute_result"
    }
   ],
   "source": [
    "%%time \n",
    "# Training the model\n",
    "model.fit(X_train_scaled, y_train, epochs=20, batch_size=32, verbose=1)\n"
   ]
  },
  {
   "cell_type": "code",
   "execution_count": 156,
   "metadata": {},
   "outputs": [
    {
     "name": "stdout",
     "output_type": "stream",
     "text": [
      "6/6 [==============================] - 0s 4ms/step - loss: 0.1292 - accuracy: 0.9888\n",
      "Test Accuracy: 0.9888268113136292\n",
      "Test Loss: 0.1291869431734085\n"
     ]
    }
   ],
   "source": [
    "# Evaluating the model\n",
    "loss, accuracy = model.evaluate(X_test_scaled, y_test, verbose=1)\n",
    "print(f\"Test Accuracy: {accuracy}\")\n",
    "print(f\"Test Loss: {loss}\")"
   ]
  },
  {
   "cell_type": "markdown",
   "metadata": {},
   "source": [
    "## Let's see all the steps in action within one snippet of code"
   ]
  },
  {
   "cell_type": "code",
   "execution_count": 157,
   "metadata": {},
   "outputs": [
    {
     "name": "stdout",
     "output_type": "stream",
     "text": [
      "Epoch 1/20\n",
      "23/23 [==============================] - 2s 4ms/step - loss: 0.5965 - accuracy: 0.6742\n",
      "Epoch 2/20\n",
      "23/23 [==============================] - 0s 5ms/step - loss: 0.5393 - accuracy: 0.7317\n",
      "Epoch 3/20\n",
      "23/23 [==============================] - 0s 5ms/step - loss: 0.4936 - accuracy: 0.7697\n",
      "Epoch 4/20\n",
      "23/23 [==============================] - 0s 4ms/step - loss: 0.4564 - accuracy: 0.7795\n",
      "Epoch 5/20\n",
      "23/23 [==============================] - 0s 4ms/step - loss: 0.4251 - accuracy: 0.7935\n",
      "Epoch 6/20\n",
      "23/23 [==============================] - 0s 4ms/step - loss: 0.3975 - accuracy: 0.8216\n",
      "Epoch 7/20\n",
      "23/23 [==============================] - 0s 4ms/step - loss: 0.3730 - accuracy: 0.8329\n",
      "Epoch 8/20\n",
      "23/23 [==============================] - 0s 4ms/step - loss: 0.3505 - accuracy: 0.8469\n",
      "Epoch 9/20\n",
      "23/23 [==============================] - 0s 4ms/step - loss: 0.3286 - accuracy: 0.8525\n",
      "Epoch 10/20\n",
      "23/23 [==============================] - 0s 4ms/step - loss: 0.3084 - accuracy: 0.8652\n",
      "Epoch 11/20\n",
      "23/23 [==============================] - 0s 4ms/step - loss: 0.2886 - accuracy: 0.8736\n",
      "Epoch 12/20\n",
      "23/23 [==============================] - 0s 4ms/step - loss: 0.2700 - accuracy: 0.8806\n",
      "Epoch 13/20\n",
      "23/23 [==============================] - 0s 4ms/step - loss: 0.2520 - accuracy: 0.8947\n",
      "Epoch 14/20\n",
      "23/23 [==============================] - 0s 5ms/step - loss: 0.2347 - accuracy: 0.9087\n",
      "Epoch 15/20\n",
      "23/23 [==============================] - 0s 5ms/step - loss: 0.2181 - accuracy: 0.9185\n",
      "Epoch 16/20\n",
      "23/23 [==============================] - 0s 6ms/step - loss: 0.2023 - accuracy: 0.9382\n",
      "Epoch 17/20\n",
      "23/23 [==============================] - 0s 5ms/step - loss: 0.1870 - accuracy: 0.9663\n",
      "Epoch 18/20\n",
      "23/23 [==============================] - 0s 4ms/step - loss: 0.1728 - accuracy: 0.9747\n",
      "Epoch 19/20\n",
      "23/23 [==============================] - 0s 4ms/step - loss: 0.1595 - accuracy: 0.9817\n",
      "Epoch 20/20\n",
      "23/23 [==============================] - 0s 5ms/step - loss: 0.1472 - accuracy: 0.9831\n",
      "6/6 [==============================] - 0s 4ms/step - loss: 0.1504 - accuracy: 0.9665\n",
      "Test Accuracy: 0.9664804339408875\n",
      "Test Loss: 0.1504114717245102\n"
     ]
    }
   ],
   "source": [
    "import pandas as pd\n",
    "import seaborn as sns\n",
    "from sklearn.model_selection import train_test_split\n",
    "from sklearn.preprocessing import StandardScaler\n",
    "import tensorflow as tf\n",
    "\n",
    "# remove the warning messages to keep the output clean and to hide your personal information\n",
    "import warnings\n",
    "warnings.filterwarnings(\"ignore\")\n",
    "\n",
    "# Load the dataset\n",
    "df = sns.load_dataset(\"titanic\")\n",
    "\n",
    "# drop rows with missing values\n",
    "df.drop(columns= 'deck', axis=1, inplace=True)\n",
    "\n",
    "# Handeling missing values of age using median:\n",
    "\n",
    "df['age'].fillna(df['age'].median(), inplace=True)\n",
    "\n",
    "# Select features and target variable\n",
    "X = df.drop(['pclass', 'embarked', 'embark_town', 'alive'], axis=1)\n",
    "y = df['survived']\n",
    "\n",
    "# Convert categorical variables to numerical values by using label encoding:\n",
    "from sklearn.preprocessing import LabelEncoder\n",
    "\n",
    "le = LabelEncoder()\n",
    "for column in X.select_dtypes(include=['object', 'category']).columns:\n",
    "    X[column] = le.fit_transform(X[column])\n",
    "\n",
    "# Split the dataset into training and testing sets\n",
    "X_train, X_test, y_train, y_test = train_test_split(X, y, test_size=0.2, random_state=42)\n",
    "\n",
    "# Scaling the features:\n",
    "\n",
    "scaler = StandardScaler()\n",
    "scaler.fit(X_train)\n",
    "X_train_scaled = scaler.transform(X_train)\n",
    "X_test_scaled = scaler.transform(X_test)\n",
    "\n",
    "\n",
    "\n",
    "# define the layers of the model\n",
    "input_layer = tf.keras.layers.Dense(10, activation='relu', input_shape=(X_train.shape[1],))  # input layer\n",
    "# hidden_layer = tf.keras.layers.Dense(5, activation='relu')  # hidden layer\n",
    "output_layer = tf.keras.layers.Dense(1, activation='sigmoid')  # output layer\n",
    "\n",
    "\n",
    "# Building the model:\n",
    "\n",
    "model = tf.keras.Sequential(\n",
    "    [input_layer,\n",
    "    #   hidden_layer,\n",
    "        output_layer] \n",
    "    )\n",
    "\n",
    "\n",
    "\n",
    "# compiling the model:\n",
    "model.compile(optimizer='adam', loss='binary_crossentropy', metrics=['accuracy']) \n",
    "# optimizer='adam' is a common choice for optimization\n",
    "# loss = 'binary_crossentropy' for binary classification\n",
    "# metrics = ['accuracy'] to track the accuracy of the model\n",
    "\n",
    "\n",
    "# Training the model\n",
    "\n",
    "model.fit(X_train_scaled, y_train, epochs=20, batch_size=32, verbose=1)\n",
    "\n",
    "\n",
    "# Evaluating the model\n",
    "loss, accuracy = model.evaluate(X_test_scaled, y_test, verbose=1)\n",
    "print(f\"Test Accuracy: {accuracy}\")\n",
    "print(f\"Test Loss: {loss}\")\n"
   ]
  },
  {
   "cell_type": "markdown",
   "metadata": {},
   "source": [
    "Let's draw a plot for checking the model performance with each epoch:"
   ]
  },
  {
   "cell_type": "code",
   "execution_count": 158,
   "metadata": {},
   "outputs": [
    {
     "data": {
      "image/png": "[encoded data removed]",
      "text/plain": [
       "<Figure size 1200x400 with 2 Axes>"
      ]
     },
     "metadata": {},
     "output_type": "display_data"
    }
   ],
   "source": [
    "# plot the training and validation loss and accuracy\n",
    "import matplotlib.pyplot as plt\n",
    "\n",
    "# Re-train the model with validation_split to get validation metrics\n",
    "history_obj = model.fit(X_train_scaled, y_train, epochs=20, batch_size=32, verbose=0, validation_split=0.2)\n",
    "\n",
    "history = history_obj.history\n",
    "\n",
    "plt.figure(figsize=(12, 4))\n",
    "plt.subplot(1, 2, 1)\n",
    "plt.plot(history['loss'], label='Training Loss')\n",
    "plt.plot(history['val_loss'], label='Validation Loss')\n",
    "plt.title('Loss')\n",
    "plt.xlabel('Epochs')\n",
    "plt.ylabel('Loss')\n",
    "plt.legend()\n",
    "plt.subplot(1, 2, 2)\n",
    "plt.plot(history['accuracy'], label='Training Accuracy')\n",
    "plt.plot(history['val_accuracy'], label='Validation Accuracy')\n",
    "plt.title('Accuracy')\n",
    "plt.xlabel('Epochs')\n",
    "plt.ylabel('Accuracy')\n",
    "plt.legend()\n",
    "plt.show()"
   ]
  },
  {
   "cell_type": "markdown",
   "metadata": {},
   "source": [
    "# Check if GPU is available"
   ]
  },
  {
   "cell_type": "code",
   "execution_count": 159,
   "metadata": {},
   "outputs": [
    {
     "name": "stdout",
     "output_type": "stream",
     "text": [
      "Python Platform: Windows-10-10.0.19045-SP0\n",
      "Tensor Flow Version: 2.10.0\n",
      "\n",
      "Python 3.8.18 (default, Sep 11 2023, 13:47:48) [MSC v.1916 64 bit (AMD64)]\n",
      "Pandas 2.0.3\n",
      "Scikit-Learn 1.3.2\n",
      "SciPy 1.10.1\n",
      "GPU is NOT AVAILABLE\n"
     ]
    }
   ],
   "source": [
    "import sys\n",
    "\n",
    "import tensorflow.keras\n",
    "import pandas as pd\n",
    "import sklearn as sk\n",
    "import scipy as sp\n",
    "import tensorflow as tf\n",
    "import platform\n",
    "\n",
    "print(f\"Python Platform: {platform.platform()}\")\n",
    "print(f\"Tensor Flow Version: {tf.__version__}\")\n",
    "print()\n",
    "print(f\"Python {sys.version}\")\n",
    "print(f\"Pandas {pd.__version__}\")\n",
    "print(f\"Scikit-Learn {sk.__version__}\")\n",
    "print(f\"SciPy {sp.__version__}\")\n",
    "gpu = len(tf.config.list_physical_devices('GPU'))>0\n",
    "print(\"GPU is\", \"available\" if gpu else \"NOT AVAILABLE\")"
   ]
  },
  {
   "cell_type": "markdown",
   "metadata": {},
   "source": [
    "---"
   ]
  }
 ],
 "metadata": {
  "kernelspec": {
   "display_name": "tf_env",
   "language": "python",
   "name": "python3"
  },
  "language_info": {
   "codemirror_mode": {
    "name": "ipython",
    "version": 3
   },
   "file_extension": ".py",
   "mimetype": "text/x-python",
   "name": "python",
   "nbconvert_exporter": "python",
   "pygments_lexer": "ipython3",
   "version": "3.8.18"
  }
 },
 "nbformat": 4,
 "nbformat_minor": 2
}
